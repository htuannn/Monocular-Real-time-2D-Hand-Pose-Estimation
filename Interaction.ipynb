{
 "cells": [
  {
   "cell_type": "code",
   "execution_count": 1,
   "id": "cb522e39",
   "metadata": {},
   "outputs": [
    {
     "name": "stderr",
     "output_type": "stream",
     "text": [
      "C:\\Users\\hoang\\anaconda3\\envs\\ComputerVision\\lib\\site-packages\\tqdm\\auto.py:22: TqdmWarning: IProgress not found. Please update jupyter and ipywidgets. See https://ipywidgets.readthedocs.io/en/stable/user_install.html\n",
      "  from .autonotebook import tqdm as notebook_tqdm\n"
     ]
    }
   ],
   "source": [
    "import cv2, torch, torchvision\n",
    "from torch.utils.data import DataLoader"
   ]
  },
  {
   "cell_type": "code",
   "execution_count": 2,
   "id": "895d83e6",
   "metadata": {},
   "outputs": [],
   "source": [
    "import model\n",
    "import torch.nn as nn\n",
    "from torch.optim import Adam\n",
    "from dataset import FreiHand\n"
   ]
  },
  {
   "cell_type": "code",
   "execution_count": 3,
   "id": "eb7e8041",
   "metadata": {},
   "outputs": [],
   "source": [
    "COLORMAP = {\n",
    "    \"thumb\": {\"ids\": [0, 1, 2, 3, 4], \"color\": (0,255,0) #green\n",
    "             },\n",
    "    \"index\": {\"ids\": [0, 5, 6, 7, 8], \"color\": (0,255,255) #cyan\n",
    "             },\n",
    "    \"middle\": {\"ids\": [0, 9, 10, 11, 12], \"color\": (0,0,255) #blue\n",
    "              },\n",
    "    \"ring\": {\"ids\": [0, 13, 14, 15, 16], \"color\": (255,0,255) #pink\n",
    "            },\n",
    "    \"little\": {\"ids\": [0, 17, 18, 19, 20], \"color\": (255,0,0) #red\n",
    "              },\n",
    "}"
   ]
  },
  {
   "cell_type": "code",
   "execution_count": 5,
   "id": "f1aa8d96",
   "metadata": {},
   "outputs": [],
   "source": [
    "config = {\n",
    "    \"data_dir\": \"Dataset/FreiHand\",\n",
    "    \"n_sample\": 1,\n",
    "    \"epochs\": 1,\n",
    "    \"batch_size\": 1,\n",
    "    \"shuffle\":True,\n",
    "    \"batches_per_epoch\": 50,\n",
    "    \"batches_per_epoch_val\": 20,\n",
    "    \"learning_rate\": 0.001,\n",
    "    \"decay\": 0.0001,\n",
    "    \"device\": torch.device(\"cuda\" if torch.cuda.is_available() else \"cpu\"),\n",
    "}"
   ]
  },
  {
   "cell_type": "code",
   "execution_count": 6,
   "id": "1828a569",
   "metadata": {},
   "outputs": [],
   "source": [
    "module = model.Resnet(3,model.ResBottleneckBlock,[3,4,6,3], useBottleneck=True)\n",
    "module=module.to(config[\"device\"])"
   ]
  },
  {
   "cell_type": "code",
   "execution_count": 7,
   "id": "10e0ecb6",
   "metadata": {},
   "outputs": [],
   "source": [
    "# Define the loss function with Classification Cross-Entropy loss and an optimizer with Adam optimizer\n",
    "loss_fn = nn.MSELoss()\n",
    "optimizer = Adam(module.parameters(), lr=0.001, weight_decay=0.0001)"
   ]
  },
  {
   "cell_type": "code",
   "execution_count": 8,
   "id": "8d60401f",
   "metadata": {
    "scrolled": true
   },
   "outputs": [],
   "source": [
    "train_set = FreiHand(config=config, set_type=\"train\")\n",
    "train_dl = DataLoader(train_set, batch_size=config[\"batch_size\"], shuffle= True)\n",
    "\n",
    "val_set = FreiHand(config=config, set_type=\"val\")\n",
    "val_dl = DataLoader(val_set, batch_size=config[\"batch_size\"], shuffle= False)\n"
   ]
  },
  {
   "cell_type": "code",
   "execution_count": null,
   "id": "51d5e47b",
   "metadata": {},
   "outputs": [
    {
     "name": "stdout",
     "output_type": "stream",
     "text": [
      "tensor(0.2368, device='cuda:0', dtype=torch.float64,\n",
      "       grad_fn=<MseLossBackward0>)\n",
      "tensor(0.2193, device='cuda:0', dtype=torch.float64,\n",
      "       grad_fn=<MseLossBackward0>)\n",
      "tensor(0.2014, device='cuda:0', dtype=torch.float64,\n",
      "       grad_fn=<MseLossBackward0>)\n",
      "tensor(0.1853, device='cuda:0', dtype=torch.float64,\n",
      "       grad_fn=<MseLossBackward0>)\n",
      "tensor(0.1740, device='cuda:0', dtype=torch.float64,\n",
      "       grad_fn=<MseLossBackward0>)\n",
      "tensor(0.1418, device='cuda:0', dtype=torch.float64,\n",
      "       grad_fn=<MseLossBackward0>)\n",
      "tensor(0.1250, device='cuda:0', dtype=torch.float64,\n",
      "       grad_fn=<MseLossBackward0>)\n",
      "tensor(0.1094, device='cuda:0', dtype=torch.float64,\n",
      "       grad_fn=<MseLossBackward0>)\n",
      "tensor(0.0922, device='cuda:0', dtype=torch.float64,\n",
      "       grad_fn=<MseLossBackward0>)\n",
      "tensor(0.0794, device='cuda:0', dtype=torch.float64,\n",
      "       grad_fn=<MseLossBackward0>)\n",
      "tensor(0.0699, device='cuda:0', dtype=torch.float64,\n",
      "       grad_fn=<MseLossBackward0>)\n",
      "tensor(0.0624, device='cuda:0', dtype=torch.float64,\n",
      "       grad_fn=<MseLossBackward0>)\n",
      "tensor(0.0558, device='cuda:0', dtype=torch.float64,\n",
      "       grad_fn=<MseLossBackward0>)\n",
      "tensor(0.0504, device='cuda:0', dtype=torch.float64,\n",
      "       grad_fn=<MseLossBackward0>)\n",
      "tensor(0.0456, device='cuda:0', dtype=torch.float64,\n",
      "       grad_fn=<MseLossBackward0>)\n",
      "tensor(0.0390, device='cuda:0', dtype=torch.float64,\n",
      "       grad_fn=<MseLossBackward0>)\n",
      "tensor(0.0352, device='cuda:0', dtype=torch.float64,\n",
      "       grad_fn=<MseLossBackward0>)\n",
      "tensor(0.0360, device='cuda:0', dtype=torch.float64,\n",
      "       grad_fn=<MseLossBackward0>)\n",
      "tensor(0.0321, device='cuda:0', dtype=torch.float64,\n",
      "       grad_fn=<MseLossBackward0>)\n",
      "tensor(0.0305, device='cuda:0', dtype=torch.float64,\n",
      "       grad_fn=<MseLossBackward0>)\n",
      "tensor(0.0357, device='cuda:0', dtype=torch.float64,\n",
      "       grad_fn=<MseLossBackward0>)\n",
      "tensor(0.0289, device='cuda:0', dtype=torch.float64,\n",
      "       grad_fn=<MseLossBackward0>)\n",
      "tensor(0.0237, device='cuda:0', dtype=torch.float64,\n",
      "       grad_fn=<MseLossBackward0>)\n",
      "tensor(0.0262, device='cuda:0', dtype=torch.float64,\n",
      "       grad_fn=<MseLossBackward0>)\n",
      "tensor(0.0232, device='cuda:0', dtype=torch.float64,\n",
      "       grad_fn=<MseLossBackward0>)\n",
      "tensor(0.0252, device='cuda:0', dtype=torch.float64,\n",
      "       grad_fn=<MseLossBackward0>)\n",
      "tensor(0.0228, device='cuda:0', dtype=torch.float64,\n",
      "       grad_fn=<MseLossBackward0>)\n",
      "tensor(0.0206, device='cuda:0', dtype=torch.float64,\n",
      "       grad_fn=<MseLossBackward0>)\n",
      "tensor(0.0203, device='cuda:0', dtype=torch.float64,\n",
      "       grad_fn=<MseLossBackward0>)\n",
      "tensor(0.0225, device='cuda:0', dtype=torch.float64,\n",
      "       grad_fn=<MseLossBackward0>)\n",
      "tensor(0.0188, device='cuda:0', dtype=torch.float64,\n",
      "       grad_fn=<MseLossBackward0>)\n",
      "tensor(0.0157, device='cuda:0', dtype=torch.float64,\n",
      "       grad_fn=<MseLossBackward0>)\n",
      "tensor(0.0157, device='cuda:0', dtype=torch.float64,\n",
      "       grad_fn=<MseLossBackward0>)\n",
      "tensor(0.0160, device='cuda:0', dtype=torch.float64,\n",
      "       grad_fn=<MseLossBackward0>)\n",
      "tensor(0.0167, device='cuda:0', dtype=torch.float64,\n",
      "       grad_fn=<MseLossBackward0>)\n",
      "tensor(0.0297, device='cuda:0', dtype=torch.float64,\n",
      "       grad_fn=<MseLossBackward0>)\n",
      "tensor(0.0216, device='cuda:0', dtype=torch.float64,\n",
      "       grad_fn=<MseLossBackward0>)\n",
      "tensor(0.0176, device='cuda:0', dtype=torch.float64,\n",
      "       grad_fn=<MseLossBackward0>)\n",
      "tensor(0.0179, device='cuda:0', dtype=torch.float64,\n",
      "       grad_fn=<MseLossBackward0>)\n",
      "tensor(0.0177, device='cuda:0', dtype=torch.float64,\n",
      "       grad_fn=<MseLossBackward0>)\n",
      "tensor(0.0155, device='cuda:0', dtype=torch.float64,\n",
      "       grad_fn=<MseLossBackward0>)\n",
      "tensor(0.0287, device='cuda:0', dtype=torch.float64,\n",
      "       grad_fn=<MseLossBackward0>)\n",
      "tensor(0.0233, device='cuda:0', dtype=torch.float64,\n",
      "       grad_fn=<MseLossBackward0>)\n",
      "tensor(0.0178, device='cuda:0', dtype=torch.float64,\n",
      "       grad_fn=<MseLossBackward0>)\n",
      "tensor(0.0174, device='cuda:0', dtype=torch.float64,\n",
      "       grad_fn=<MseLossBackward0>)\n",
      "tensor(0.0175, device='cuda:0', dtype=torch.float64,\n",
      "       grad_fn=<MseLossBackward0>)\n",
      "tensor(0.0249, device='cuda:0', dtype=torch.float64,\n",
      "       grad_fn=<MseLossBackward0>)\n",
      "tensor(0.0185, device='cuda:0', dtype=torch.float64,\n",
      "       grad_fn=<MseLossBackward0>)\n",
      "tensor(0.0202, device='cuda:0', dtype=torch.float64,\n",
      "       grad_fn=<MseLossBackward0>)\n",
      "tensor(0.0195, device='cuda:0', dtype=torch.float64,\n",
      "       grad_fn=<MseLossBackward0>)\n",
      "tensor(0.0243, device='cuda:0', dtype=torch.float64,\n",
      "       grad_fn=<MseLossBackward0>)\n",
      "tensor(0.0180, device='cuda:0', dtype=torch.float64,\n",
      "       grad_fn=<MseLossBackward0>)\n",
      "tensor(0.0198, device='cuda:0', dtype=torch.float64,\n",
      "       grad_fn=<MseLossBackward0>)\n",
      "tensor(0.0175, device='cuda:0', dtype=torch.float64,\n",
      "       grad_fn=<MseLossBackward0>)\n",
      "tensor(0.0165, device='cuda:0', dtype=torch.float64,\n",
      "       grad_fn=<MseLossBackward0>)\n",
      "tensor(0.0168, device='cuda:0', dtype=torch.float64,\n",
      "       grad_fn=<MseLossBackward0>)\n",
      "tensor(0.0170, device='cuda:0', dtype=torch.float64,\n",
      "       grad_fn=<MseLossBackward0>)\n",
      "tensor(0.0307, device='cuda:0', dtype=torch.float64,\n",
      "       grad_fn=<MseLossBackward0>)\n",
      "tensor(0.0236, device='cuda:0', dtype=torch.float64,\n",
      "       grad_fn=<MseLossBackward0>)\n",
      "tensor(0.0197, device='cuda:0', dtype=torch.float64,\n",
      "       grad_fn=<MseLossBackward0>)\n",
      "tensor(0.0165, device='cuda:0', dtype=torch.float64,\n",
      "       grad_fn=<MseLossBackward0>)\n",
      "tensor(0.0243, device='cuda:0', dtype=torch.float64,\n",
      "       grad_fn=<MseLossBackward0>)\n",
      "tensor(0.0195, device='cuda:0', dtype=torch.float64,\n",
      "       grad_fn=<MseLossBackward0>)\n",
      "tensor(0.0163, device='cuda:0', dtype=torch.float64,\n",
      "       grad_fn=<MseLossBackward0>)\n",
      "tensor(0.0242, device='cuda:0', dtype=torch.float64,\n",
      "       grad_fn=<MseLossBackward0>)\n",
      "tensor(0.0139, device='cuda:0', dtype=torch.float64,\n",
      "       grad_fn=<MseLossBackward0>)\n",
      "tensor(0.0166, device='cuda:0', dtype=torch.float64,\n",
      "       grad_fn=<MseLossBackward0>)\n",
      "tensor(0.0146, device='cuda:0', dtype=torch.float64,\n",
      "       grad_fn=<MseLossBackward0>)\n",
      "tensor(0.0130, device='cuda:0', dtype=torch.float64,\n",
      "       grad_fn=<MseLossBackward0>)\n",
      "tensor(0.0140, device='cuda:0', dtype=torch.float64,\n",
      "       grad_fn=<MseLossBackward0>)\n",
      "tensor(0.0157, device='cuda:0', dtype=torch.float64,\n",
      "       grad_fn=<MseLossBackward0>)\n",
      "tensor(0.0174, device='cuda:0', dtype=torch.float64,\n",
      "       grad_fn=<MseLossBackward0>)\n",
      "tensor(0.0181, device='cuda:0', dtype=torch.float64,\n",
      "       grad_fn=<MseLossBackward0>)\n",
      "tensor(0.0194, device='cuda:0', dtype=torch.float64,\n",
      "       grad_fn=<MseLossBackward0>)\n",
      "tensor(0.0167, device='cuda:0', dtype=torch.float64,\n",
      "       grad_fn=<MseLossBackward0>)\n",
      "tensor(0.0179, device='cuda:0', dtype=torch.float64,\n",
      "       grad_fn=<MseLossBackward0>)\n",
      "tensor(0.0169, device='cuda:0', dtype=torch.float64,\n",
      "       grad_fn=<MseLossBackward0>)\n",
      "tensor(0.0191, device='cuda:0', dtype=torch.float64,\n",
      "       grad_fn=<MseLossBackward0>)\n",
      "tensor(0.0157, device='cuda:0', dtype=torch.float64,\n",
      "       grad_fn=<MseLossBackward0>)\n",
      "tensor(0.0145, device='cuda:0', dtype=torch.float64,\n",
      "       grad_fn=<MseLossBackward0>)\n",
      "tensor(0.0209, device='cuda:0', dtype=torch.float64,\n",
      "       grad_fn=<MseLossBackward0>)\n",
      "tensor(0.0154, device='cuda:0', dtype=torch.float64,\n",
      "       grad_fn=<MseLossBackward0>)\n",
      "tensor(0.0160, device='cuda:0', dtype=torch.float64,\n",
      "       grad_fn=<MseLossBackward0>)\n",
      "tensor(0.0131, device='cuda:0', dtype=torch.float64,\n",
      "       grad_fn=<MseLossBackward0>)\n",
      "tensor(0.0180, device='cuda:0', dtype=torch.float64,\n",
      "       grad_fn=<MseLossBackward0>)\n",
      "tensor(0.0142, device='cuda:0', dtype=torch.float64,\n",
      "       grad_fn=<MseLossBackward0>)\n",
      "tensor(0.0186, device='cuda:0', dtype=torch.float64,\n",
      "       grad_fn=<MseLossBackward0>)\n",
      "tensor(0.0163, device='cuda:0', dtype=torch.float64,\n",
      "       grad_fn=<MseLossBackward0>)\n",
      "tensor(0.0165, device='cuda:0', dtype=torch.float64,\n",
      "       grad_fn=<MseLossBackward0>)\n",
      "tensor(0.0155, device='cuda:0', dtype=torch.float64,\n",
      "       grad_fn=<MseLossBackward0>)\n",
      "tensor(0.0147, device='cuda:0', dtype=torch.float64,\n",
      "       grad_fn=<MseLossBackward0>)\n",
      "tensor(0.0166, device='cuda:0', dtype=torch.float64,\n",
      "       grad_fn=<MseLossBackward0>)\n",
      "tensor(0.0116, device='cuda:0', dtype=torch.float64,\n",
      "       grad_fn=<MseLossBackward0>)\n",
      "tensor(0.0143, device='cuda:0', dtype=torch.float64,\n",
      "       grad_fn=<MseLossBackward0>)\n",
      "tensor(0.0135, device='cuda:0', dtype=torch.float64,\n",
      "       grad_fn=<MseLossBackward0>)\n"
     ]
    },
    {
     "name": "stdout",
     "output_type": "stream",
     "text": [
      "tensor(0.0230, device='cuda:0', dtype=torch.float64,\n",
      "       grad_fn=<MseLossBackward0>)\n",
      "tensor(0.0136, device='cuda:0', dtype=torch.float64,\n",
      "       grad_fn=<MseLossBackward0>)\n",
      "tensor(0.0117, device='cuda:0', dtype=torch.float64,\n",
      "       grad_fn=<MseLossBackward0>)\n",
      "tensor(0.0139, device='cuda:0', dtype=torch.float64,\n",
      "       grad_fn=<MseLossBackward0>)\n",
      "tensor(0.0142, device='cuda:0', dtype=torch.float64,\n",
      "       grad_fn=<MseLossBackward0>)\n",
      "tensor(0.0124, device='cuda:0', dtype=torch.float64,\n",
      "       grad_fn=<MseLossBackward0>)\n",
      "tensor(0.0140, device='cuda:0', dtype=torch.float64,\n",
      "       grad_fn=<MseLossBackward0>)\n",
      "tensor(0.0271, device='cuda:0', dtype=torch.float64,\n",
      "       grad_fn=<MseLossBackward0>)\n",
      "tensor(0.0137, device='cuda:0', dtype=torch.float64,\n",
      "       grad_fn=<MseLossBackward0>)\n",
      "tensor(0.0190, device='cuda:0', dtype=torch.float64,\n",
      "       grad_fn=<MseLossBackward0>)\n",
      "tensor(0.0153, device='cuda:0', dtype=torch.float64,\n",
      "       grad_fn=<MseLossBackward0>)\n",
      "tensor(0.0177, device='cuda:0', dtype=torch.float64,\n",
      "       grad_fn=<MseLossBackward0>)\n",
      "tensor(0.0169, device='cuda:0', dtype=torch.float64,\n",
      "       grad_fn=<MseLossBackward0>)\n",
      "tensor(0.0151, device='cuda:0', dtype=torch.float64,\n",
      "       grad_fn=<MseLossBackward0>)\n",
      "tensor(0.0129, device='cuda:0', dtype=torch.float64,\n",
      "       grad_fn=<MseLossBackward0>)\n",
      "tensor(0.0202, device='cuda:0', dtype=torch.float64,\n",
      "       grad_fn=<MseLossBackward0>)\n",
      "tensor(0.0178, device='cuda:0', dtype=torch.float64,\n",
      "       grad_fn=<MseLossBackward0>)\n",
      "tensor(0.0188, device='cuda:0', dtype=torch.float64,\n",
      "       grad_fn=<MseLossBackward0>)\n",
      "tensor(0.0187, device='cuda:0', dtype=torch.float64,\n",
      "       grad_fn=<MseLossBackward0>)\n",
      "tensor(0.0166, device='cuda:0', dtype=torch.float64,\n",
      "       grad_fn=<MseLossBackward0>)\n",
      "tensor(0.0151, device='cuda:0', dtype=torch.float64,\n",
      "       grad_fn=<MseLossBackward0>)\n",
      "tensor(0.0145, device='cuda:0', dtype=torch.float64,\n",
      "       grad_fn=<MseLossBackward0>)\n",
      "tensor(0.0123, device='cuda:0', dtype=torch.float64,\n",
      "       grad_fn=<MseLossBackward0>)\n",
      "tensor(0.0329, device='cuda:0', dtype=torch.float64,\n",
      "       grad_fn=<MseLossBackward0>)\n",
      "tensor(0.0298, device='cuda:0', dtype=torch.float64,\n",
      "       grad_fn=<MseLossBackward0>)\n",
      "tensor(0.0257, device='cuda:0', dtype=torch.float64,\n",
      "       grad_fn=<MseLossBackward0>)\n",
      "tensor(0.0163, device='cuda:0', dtype=torch.float64,\n",
      "       grad_fn=<MseLossBackward0>)\n",
      "tensor(0.0167, device='cuda:0', dtype=torch.float64,\n",
      "       grad_fn=<MseLossBackward0>)\n",
      "tensor(0.0231, device='cuda:0', dtype=torch.float64,\n",
      "       grad_fn=<MseLossBackward0>)\n",
      "tensor(0.0205, device='cuda:0', dtype=torch.float64,\n",
      "       grad_fn=<MseLossBackward0>)\n",
      "tensor(0.0177, device='cuda:0', dtype=torch.float64,\n",
      "       grad_fn=<MseLossBackward0>)\n"
     ]
    }
   ],
   "source": [
    "for _ in range(config[\"epochs\"]):\n",
    "    for i, data in enumerate(train_dl):\n",
    "        optimizer.zero_grad()\n",
    "        inputs= data[\"image\"].to(config[\"device\"])\n",
    "        targets= data[\"heatmaps\"].to(config[\"device\"])\n",
    "        yhat=module(inputs).to(torch.float64)\n",
    "\n",
    "        loss= loss_fn(yhat, targets)\n",
    "        print(loss)\n",
    "        loss.backward()\n",
    "        optimizer.step()"
   ]
  },
  {
   "cell_type": "code",
   "execution_count": null,
   "id": "91a48a15",
   "metadata": {},
   "outputs": [],
   "source": [
    "bla=train_set[0]['keypoints'].detach().cpu().numpy()"
   ]
  },
  {
   "cell_type": "code",
   "execution_count": null,
   "id": "650112c5",
   "metadata": {},
   "outputs": [],
   "source": [
    "bla"
   ]
  },
  {
   "cell_type": "code",
   "execution_count": null,
   "id": "345d9c4c",
   "metadata": {},
   "outputs": [],
   "source": [
    "bla=bla.reshape(2,21)*32"
   ]
  },
  {
   "cell_type": "code",
   "execution_count": null,
   "id": "88637e79",
   "metadata": {},
   "outputs": [],
   "source": [
    "from skimage.transform import resize\n",
    "bla2 = resize(train_set[0]['image'].detach().cpu().numpy().transpose([2, 1, 0]), (32, 32))"
   ]
  },
  {
   "cell_type": "code",
   "execution_count": null,
   "id": "2702e5ae",
   "metadata": {},
   "outputs": [],
   "source": [
    "bla2"
   ]
  },
  {
   "cell_type": "code",
   "execution_count": null,
   "id": "de9f84b2",
   "metadata": {
    "scrolled": true
   },
   "outputs": [],
   "source": [
    "import matplotlib.pyplot as plt\n",
    "\n",
    "\n",
    "plt.subplot(1,2,2)\n",
    "plt.imshow(train_set[0]['heatmaps'][17])\n",
    "plt.subplot(1,2,1)\n",
    "plt.imshow(bla2)\n",
    "plt.scatter(bla[0][17],bla[1][17])"
   ]
  },
  {
   "cell_type": "code",
   "execution_count": null,
   "id": "31ada257",
   "metadata": {},
   "outputs": [],
   "source": [
    "output"
   ]
  },
  {
   "cell_type": "code",
   "execution_count": null,
   "id": "24b93db4",
   "metadata": {},
   "outputs": [],
   "source": [
    "from PIL import Image\n",
    "from torchvision import transforms\n",
    "bla=Image.open(\"test.jpg\")"
   ]
  },
  {
   "cell_type": "code",
   "execution_count": null,
   "id": "ba725321",
   "metadata": {},
   "outputs": [],
   "source": [
    "bla.numpy"
   ]
  },
  {
   "cell_type": "code",
   "execution_count": null,
   "id": "936121c1",
   "metadata": {},
   "outputs": [],
   "source": [
    "image_transform = transforms.Compose([\n",
    "\t\t\t\ttransforms.Resize(128),\n",
    "\t\t\t\ttransforms.ToTensor(),\n",
    "\t\t\t\t])"
   ]
  },
  {
   "cell_type": "code",
   "execution_count": null,
   "id": "7b8336b4",
   "metadata": {},
   "outputs": [],
   "source": [
    "bla1= image_transform(bla)"
   ]
  },
  {
   "cell_type": "code",
   "execution_count": null,
   "id": "43bce2ae",
   "metadata": {},
   "outputs": [],
   "source": [
    "bla1.shape"
   ]
  },
  {
   "cell_type": "code",
   "execution_count": null,
   "id": "fc474801",
   "metadata": {},
   "outputs": [],
   "source": []
  }
 ],
 "metadata": {
  "kernelspec": {
   "display_name": "Python 3 (ipykernel)",
   "language": "python",
   "name": "python3"
  },
  "language_info": {
   "codemirror_mode": {
    "name": "ipython",
    "version": 3
   },
   "file_extension": ".py",
   "mimetype": "text/x-python",
   "name": "python",
   "nbconvert_exporter": "python",
   "pygments_lexer": "ipython3",
   "version": "3.10.4"
  }
 },
 "nbformat": 4,
 "nbformat_minor": 5
}
